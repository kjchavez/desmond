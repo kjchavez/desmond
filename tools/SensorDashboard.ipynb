{
 "cells": [
  {
   "cell_type": "markdown",
   "metadata": {},
   "source": [
    "# Sensor Dashboard V0\n",
    "\n",
    "This gives us a relatively easy way to inspect stored sensory data from any time window. Real-time inspection will  probably be questionable. But this should give us a good starting point. Just change the parameters and run the whole notebook."
   ]
  },
  {
   "cell_type": "code",
   "execution_count": 18,
   "metadata": {},
   "outputs": [],
   "source": [
    "from desmond import types\n",
    "import os\n",
    "import time"
   ]
  },
  {
   "cell_type": "code",
   "execution_count": 10,
   "metadata": {},
   "outputs": [],
   "source": [
    "# Parameters\n",
    "params = {}\n",
    "params['start_time'] = None\n",
    "params['end_time'] = None\n",
    "params['data_types'] = (types.Text, types.Image)\n",
    "params['database'] = os.path.join(os.path.expanduser('~'), '.desmond/sensorlogs.db')"
   ]
  },
  {
   "cell_type": "code",
   "execution_count": 113,
   "metadata": {},
   "outputs": [],
   "source": [
    "import sqlite3\n",
    "\n",
    "def micros(seconds):\n",
    "    return int(seconds*1e6)\n",
    "\n",
    "class SensorReader(object):\n",
    "    def __init__(self, dbname):\n",
    "        self.conn = sqlite3.connect(dbname)\n",
    "        self.conn.row_factory = sqlite3.Row\n",
    "        \n",
    "    def read(self, start, end, datatype=None):\n",
    "        args = micros(start), micros(end)\n",
    "        query = (\"select *from sensordata \"\n",
    "                 \"where time_usec > ? and time_usec < ?\")\n",
    "        if datatype is not None:\n",
    "            if '/' not in datatype:\n",
    "                datatype = \"type.googleapis.com/\"+datatype\n",
    "            args += (datatype,)\n",
    "            query += \" and type_url = ?\"\n",
    "\n",
    "        query += \" order by time_usec desc\"\n",
    "            \n",
    "        cur = self.conn.cursor()\n",
    "        cur.execute(query, args)\n",
    "        for elem in cur:\n",
    "            yield elem\n",
    "            \n",
    "    def __del__(self):\n",
    "        self.conn.close()"
   ]
  },
  {
   "cell_type": "code",
   "execution_count": 114,
   "metadata": {},
   "outputs": [],
   "source": [
    "r = SensorReader(params['database'])"
   ]
  },
  {
   "cell_type": "code",
   "execution_count": 121,
   "metadata": {},
   "outputs": [],
   "source": [
    "# Visualization, exporting utils\n",
    "from IPython.display import HTML, display\n",
    "from datetime import datetime\n",
    "from google.protobuf import any_pb2\n",
    "\n",
    "def html_table(data, keys=None):\n",
    "    \"\"\" Returns HTML string for a table of the errors.\n",
    "    \n",
    "    Args:\n",
    "        errors: List of dictionaries. All elements of dictionaries will be represented\n",
    "                as strings in the table.\n",
    "        keys: Keys from the dictionaries that should be shown. If None, will use keys\n",
    "              from first element of the |errors|.\n",
    "\n",
    "    Returns:\n",
    "        Valid HTML string.\n",
    "    \"\"\"\n",
    "    if not data:\n",
    "        return \"\"\n",
    "\n",
    "    keys = keys or data[0].keys()\n",
    "    s = \"<table>\"\n",
    "    s += \"<tr><th>\" + \"</th><th>\".join(keys) + \"</th></tr>\"\n",
    "    row_template = \"<tr><td>\"+\"</td><td>\".join(\"{\"+key+\"}\" for key in keys) + \"</td></tr>\"\n",
    "    s += \"\".join(row_template.format(**row_data)\n",
    "                                     for row_data in data)\n",
    "    s += \"</table>\"\n",
    "    return s\n",
    "\n",
    "def show_table(data, keys=None):\n",
    "    display(HTML(html_table(data, keys=keys)))\n",
    "    \n",
    "# Basic idea: create a map from type url to special decoder (e.g. for images)\n",
    "def default_decode(payload):\n",
    "    if (len(payload) < 40):\n",
    "        return payload\n",
    "    else:\n",
    "        return payload[0:40]+\"...\"\n",
    "    \n",
    "def decode_text(payload):\n",
    "    text = types.Text()\n",
    "    text.ParseFromString(payload)\n",
    "    return text.value\n",
    "    \n",
    "class TableViewer(object):\n",
    "    DECODERS = {\n",
    "        \"desmond.types.Text\": decode_text\n",
    "    }\n",
    "    \"\"\"Default viewer for a sensory data type. Shows a table. \"\"\"\n",
    "    def __init__(self, DType=None, transforms=None):\n",
    "        self.DType = DType\n",
    "        self.transforms = {}\n",
    "        self.transforms['time_usec'] = lambda time_usec: str(datetime.fromtimestamp(time_usec/1e6))\n",
    "        self.transforms['payload'] = self.decode_payload\n",
    "        if transforms:\n",
    "            self.transforms.update(transforms)\n",
    "        \n",
    "    def decode_payload(self, type_url, value_bytes):\n",
    "        decode_fn = TableViewer.DECODERS.get(type_url.split('/')[1], default_decode)\n",
    "        return decode_fn(value_bytes)\n",
    "    \n",
    "    def display(self, rows):\n",
    "        data = []\n",
    "        for row in rows:\n",
    "            row_data = dict((k, row[k]) for k in row.keys())\n",
    "            row_data['timestamp'] = str(datetime.fromtimestamp(row['time_usec']/1e6))\n",
    "            row_data.pop('time_usec')\n",
    "            row_data['payload'] = self.decode_payload(row['type_url'], row['payload'])\n",
    "            data.append(row_data)\n",
    "            \n",
    "        show_table(data, keys=('timestamp', 'payload', 'type_url', 'sensor_name', 'sensor_address'))\n",
    "        "
   ]
  },
  {
   "cell_type": "code",
   "execution_count": 122,
   "metadata": {},
   "outputs": [
    {
     "data": {
      "text/html": [
       "<table><tr><th>timestamp</th><th>payload</th><th>type_url</th><th>sensor_name</th><th>sensor_address</th></tr><tr><td>2017-11-30 22:30:32.544773</td><td>may I have</td><td>type.googleapis.com/desmond.types.Text</td><td>Commandline</td><td>tcp://192.168.1.24:8979</td></tr><tr><td>2017-11-30 22:30:30.423300</td><td>sir</td><td>type.googleapis.com/desmond.types.Text</td><td>Commandline</td><td>tcp://192.168.1.24:8979</td></tr><tr><td>2017-11-30 22:30:29.697413</td><td>please</td><td>type.googleapis.com/desmond.types.Text</td><td>Commandline</td><td>tcp://192.168.1.24:8979</td></tr><tr><td>2017-11-30 22:30:27.708600</td><td>with these logs</td><td>type.googleapis.com/desmond.types.Text</td><td>Commandline</td><td>tcp://192.168.1.24:8979</td></tr><tr><td>2017-11-30 22:30:23.820875</td><td>what gives</td><td>type.googleapis.com/desmond.types.Text</td><td>Commandline</td><td>tcp://192.168.1.24:8979</td></tr><tr><td>2017-11-30 22:30:21.347047</td><td>yo</td><td>type.googleapis.com/desmond.types.Text</td><td>Commandline</td><td>tcp://192.168.1.24:8979</td></tr></table>"
      ],
      "text/plain": [
       "<IPython.core.display.HTML object>"
      ]
     },
     "metadata": {},
     "output_type": "display_data"
    }
   ],
   "source": [
    "viewer = TableViewer()\n",
    "viewer.display(r.read(0, time.time(), datatype=\"desmond.types.Text\"))"
   ]
  }
 ],
 "metadata": {
  "kernelspec": {
   "display_name": "Python 3",
   "language": "python",
   "name": "python3"
  },
  "language_info": {
   "codemirror_mode": {
    "name": "ipython",
    "version": 3
   },
   "file_extension": ".py",
   "mimetype": "text/x-python",
   "name": "python",
   "nbconvert_exporter": "python",
   "pygments_lexer": "ipython3",
   "version": "3.5.4"
  }
 },
 "nbformat": 4,
 "nbformat_minor": 2
}
